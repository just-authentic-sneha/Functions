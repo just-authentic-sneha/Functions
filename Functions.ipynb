{
  "nbformat": 4,
  "nbformat_minor": 0,
  "metadata": {
    "colab": {
      "provenance": []
    },
    "kernelspec": {
      "name": "python3",
      "display_name": "Python 3"
    },
    "language_info": {
      "name": "python"
    }
  },
  "cells": [
    {
      "cell_type": "markdown",
      "source": [
        "# Functions\n"
      ],
      "metadata": {
        "id": "-mCT1RNSJncb"
      }
    },
    {
      "cell_type": "markdown",
      "source": [
        "### 1. What is the difference between a function and a method in Python?\n",
        "\n",
        "- **Function:** A block of reusable code that performs a specific task. It is defined using the `def` keyword and can be called independently.\n",
        "\n",
        "- **Method:** A function that is associated with an object and is called using dot notation. It usually operates on the object's attributes.\n",
        "\n",
        "#### Example:\n",
        "```python\n",
        "def greet(name):  # Function\n",
        "    return f\"Hello, {name}!\"\n",
        "\n",
        "class Person:\n",
        "    def __init__(self, name):\n",
        "        self.name = name\n",
        "\n",
        "    def introduce(self):  # Method\n",
        "        return f\"My name is {self.name}.\"\n",
        "\n",
        "print(greet(\"Alice\"))  # Calling function\n",
        "p = Person(\"Bob\")\n",
        "print(p.introduce())  # Calling method\n",
        "```\n",
        "\n",
        "---\n",
        "\n",
        "### 2. Explain the concept of function arguments and parameters in Python.\n",
        "\n",
        "- **Parameters** are variables listed inside the function definition.\n",
        "- **Arguments** are values passed to the function when calling it.\n",
        "\n",
        "#### Example:\n",
        "```python\n",
        "def add(a, b):  # a and b are parameters\n",
        "    return a + b\n",
        "\n",
        "print(add(5, 3))  # 5 and 3 are arguments\n",
        "```\n",
        "\n",
        "---\n",
        "\n",
        "### 3. What are the different ways to define and call a function in Python?\n",
        "\n",
        "1. **Regular function**\n",
        "```python\n",
        "def greet(name):\n",
        "    return f\"Hello, {name}!\"\n",
        "\n",
        "print(greet(\"Alice\"))\n",
        "```\n",
        "\n",
        "2. **Function with default arguments**\n",
        "```python\n",
        "def greet(name=\"Guest\"):\n",
        "    return f\"Hello, {name}!\"\n",
        "\n",
        "print(greet())  # Uses default value \"Guest\"\n",
        "```\n",
        "\n",
        "3. **Lambda function**\n",
        "```python\n",
        "square = lambda x: x * x\n",
        "print(square(4))\n",
        "```\n",
        "\n",
        "---\n",
        "\n",
        "### 4. What is the purpose of the `return` statement in a Python function?\n",
        "\n",
        "- The `return` statement is used to send a value back from a function.\n",
        "\n",
        "#### Example:\n",
        "```python\n",
        "def multiply(a, b):\n",
        "    return a * b\n",
        "\n",
        "result = multiply(4, 5)\n",
        "print(result)  # Output: 20\n",
        "```\n",
        "\n",
        "---\n",
        "\n",
        "### 5. What are iterators in Python and how do they differ from iterables?\n",
        "\n",
        "- **Iterable:** An object that contains multiple elements and can be iterated over (like lists, tuples, and strings).\n",
        "- **Iterator:** An object that produces elements one at a time using `__iter__()` and `__next__()` methods.\n",
        "\n",
        "#### Example:\n",
        "```python\n",
        "nums = [1, 2, 3]\n",
        "it = iter(nums)  # Creating an iterator\n",
        "\n",
        "print(next(it))  # Output: 1\n",
        "print(next(it))  # Output: 2\n",
        "```\n",
        "\n",
        "---\n",
        "\n",
        "### 6. Explain the concept of generators in Python and how they are defined.\n",
        "\n",
        "- Generators are functions that yield values using the `yield` keyword.\n",
        "- They help in creating iterators without storing all values in memory.\n",
        "\n",
        "#### Example:\n",
        "```python\n",
        "def count_up_to(n):\n",
        "    count = 1\n",
        "    while count <= n:\n",
        "        yield count\n",
        "        count += 1\n",
        "\n",
        "gen = count_up_to(3)\n",
        "print(next(gen))  # Output: 1\n",
        "print(next(gen))  # Output: 2\n",
        "```\n",
        "\n",
        "---\n",
        "\n",
        "### 7. What are the advantages of using generators over regular functions?\n",
        "\n",
        "- **Memory Efficient:** Generates values one at a time instead of storing them in memory.\n",
        "- **Faster Execution:** Avoids storing unnecessary data in lists.\n",
        "- **Lazy Evaluation:** Values are generated when required.\n",
        "\n",
        "#### Example:\n",
        "```python\n",
        "def square_numbers(n):\n",
        "    for i in range(n):\n",
        "        yield i * i\n",
        "\n",
        "gen = square_numbers(5)\n",
        "print(next(gen))  # Output: 0\n",
        "print(next(gen))  # Output: 1\n",
        "```\n",
        "\n",
        "---\n",
        "\n",
        "### 8. What is a lambda function in Python and when is it typically used?\n",
        "\n",
        "- A **lambda function** is a small anonymous function defined using the `lambda` keyword.\n",
        "- It is often used when a simple function is required for a short time.\n",
        "\n",
        "#### Example:\n",
        "```python\n",
        "square = lambda x: x * x\n",
        "print(square(5))  # Output: 25\n",
        "```\n",
        "\n",
        "---\n",
        "\n",
        "### 9. Explain the purpose and usage of the `map()` function in Python.\n",
        "\n",
        "- `map()` applies a function to every item in an iterable.\n",
        "\n",
        "#### Example:\n",
        "```python\n",
        "nums = [1, 2, 3, 4]\n",
        "doubled = list(map(lambda x: x * 2, nums))\n",
        "print(doubled)  # Output: [2, 4, 6, 8]\n",
        "```\n",
        "\n",
        "---\n",
        "\n",
        "### 10. What is the difference between `map()`, `reduce()`, and `filter()` functions in Python?\n",
        "\n",
        "| Function | Description | Example |\n",
        "|----------|-------------|------------|\n",
        "| `map()` | Applies a function to all elements in an iterable. | `map(lambda x: x*2, [1,2,3]) → [2,4,6]` |\n",
        "| `reduce()` | Applies a function cumulatively to reduce an iterable to a single value. | `reduce(lambda x,y: x+y, [1,2,3]) → 6` |\n",
        "| `filter()` | Filters elements based on a condition. | `filter(lambda x: x%2==0, [1,2,3,4]) → [2,4]` |\n",
        "\n",
        "#### Example:\n",
        "```python\n",
        "from functools import reduce\n",
        "\n",
        "nums = [1, 2, 3, 4]\n",
        "\n",
        "# Using map()\n",
        "mapped = list(map(lambda x: x * 2, nums))\n",
        "print(mapped)  # Output: [2, 4, 6, 8]\n",
        "\n",
        "# Using reduce()\n",
        "summed = reduce(lambda x, y: x + y, nums)\n",
        "print(summed)  # Output: 10\n",
        "\n",
        "# Using filter()\n",
        "filtered = list(filter(lambda x: x % 2 == 0, nums))\n",
        "print(filtered)  # Output: [2, 4]\n",
        "```\n",
        "\n",
        "### 11. Using pen & paper, write the internal mechanism for the sum operation using the `reduce()` function on this given list: `[47, 11, 42, 13]`.  \n",
        "- <img src=\"/content//content/photo_2025-04-04_01-35-35.jpg\" width=\"400\">\n",
        "\n",
        "\n",
        "\n"
      ],
      "metadata": {
        "id": "9XzZE96PJtSG"
      }
    },
    {
      "cell_type": "code",
      "source": [
        "# 1. Write a Python function that takes a list of numbers as input and returns the sum of all even numbers in the list.\n",
        "\n",
        "def sum_of_evens(numbers):\n",
        "    return sum(num for num in numbers if num % 2 == 0)\n",
        "\n",
        "# Taking user input\n",
        "num_list = list(map(int, input(\"Enter numbers separated by spaces: \").split()))\n",
        "\n",
        "# Calling the function and displaying result\n",
        "result = sum_of_evens(num_list)\n",
        "print(\"Sum of even numbers:\", result)\n",
        "\n"
      ],
      "metadata": {
        "colab": {
          "base_uri": "https://localhost:8080/"
        },
        "id": "Ct6ovX8uUeit",
        "outputId": "56957391-98cc-418e-cfa5-319dc567a71c"
      },
      "execution_count": null,
      "outputs": [
        {
          "output_type": "stream",
          "name": "stdout",
          "text": [
            "Enter numbers separated by spaces: 10 20 30 70 80 50\n",
            "Sum of even numbers: 260\n"
          ]
        }
      ]
    },
    {
      "cell_type": "code",
      "source": [
        "# 2: Create a Python function that accepts a string and returns the reverse of that string.\n",
        "\n",
        "def reverse_string(s):\n",
        "    return s[::-1]\n",
        "\n",
        "# Taking user input\n",
        "user_string = input(\"Enter a string: \")\n",
        "print(\"Reversed String:\", reverse_string(user_string))\n"
      ],
      "metadata": {
        "colab": {
          "base_uri": "https://localhost:8080/"
        },
        "id": "7JGAvaunUf-3",
        "outputId": "1e452e55-f9a8-4d66-c5bc-5f7337d4a993"
      },
      "execution_count": null,
      "outputs": [
        {
          "output_type": "stream",
          "name": "stdout",
          "text": [
            "Enter a string: SNEHA CHAND\n",
            "Reversed String: DNAHC AHENS\n"
          ]
        }
      ]
    },
    {
      "cell_type": "code",
      "source": [
        "# 3: Implement a Python function that takes a list of integers and returns a new list containing the squares of each number.\n",
        "\n",
        "def square_numbers(numbers):\n",
        "    return [num ** 2 for num in numbers]\n",
        "\n",
        "# Taking user input\n",
        "num_list = list(map(int, input(\"Enter numbers separated by spaces: \").split()))\n",
        "print(\"Squared Numbers:\", square_numbers(num_list))\n"
      ],
      "metadata": {
        "colab": {
          "base_uri": "https://localhost:8080/"
        },
        "id": "WvJCyigAUgFl",
        "outputId": "929d6109-a53e-4e19-c0ba-cf51353fc2fe"
      },
      "execution_count": null,
      "outputs": [
        {
          "output_type": "stream",
          "name": "stdout",
          "text": [
            "Enter numbers separated by spaces: 7 10 3 4 5 6\n",
            "Squared Numbers: [49, 100, 9, 16, 25, 36]\n"
          ]
        }
      ]
    },
    {
      "cell_type": "code",
      "source": [
        "# 4: Write a Python function that checks if a given number is prime or not from 1 to 200.\n",
        "\n",
        "def is_prime(n):\n",
        "    if n < 2:\n",
        "        return False\n",
        "    for i in range(2, int(n ** 0.5) + 1):\n",
        "        if n % i == 0:\n",
        "            return False\n",
        "    return True\n",
        "\n",
        "# Taking user input\n",
        "num = int(input(\"Enter a number (1 to 200): \"))\n",
        "print(f\"{num} is Prime? {is_prime(num)}\")\n"
      ],
      "metadata": {
        "colab": {
          "base_uri": "https://localhost:8080/"
        },
        "id": "nj4MMvpMUgJL",
        "outputId": "8d9b8155-fa8b-4590-f5a2-7dc291024c3c"
      },
      "execution_count": null,
      "outputs": [
        {
          "output_type": "stream",
          "name": "stdout",
          "text": [
            "Enter a number (1 to 200): 7\n",
            "7 is Prime? True\n"
          ]
        }
      ]
    },
    {
      "cell_type": "code",
      "source": [
        "# 5: Create an iterator class in Python that generates the Fibonacci sequence up to a specified number of terms.\n",
        "\n",
        "class Fibonacci:\n",
        "    def __init__(self, terms):\n",
        "        self.terms = terms\n",
        "        self.a, self.b = 0, 1\n",
        "        self.count = 0\n",
        "\n",
        "    def __iter__(self):\n",
        "        return self\n",
        "\n",
        "    def __next__(self):\n",
        "        if self.count >= self.terms:\n",
        "            raise StopIteration\n",
        "        value = self.a\n",
        "        self.a, self.b = self.b, self.a + self.b\n",
        "        self.count += 1\n",
        "        return value\n",
        "\n",
        "# Taking user input\n",
        "n_terms = int(input(\"Enter the number of Fibonacci terms: \"))\n",
        "fib_iter = Fibonacci(n_terms)\n",
        "\n",
        "print(\"Fibonacci Sequence:\", list(fib_iter))\n"
      ],
      "metadata": {
        "colab": {
          "base_uri": "https://localhost:8080/"
        },
        "id": "RnBSnb-uUgMJ",
        "outputId": "298fc9ea-51d7-4eff-8b24-80e5e5f32d91"
      },
      "execution_count": null,
      "outputs": [
        {
          "output_type": "stream",
          "name": "stdout",
          "text": [
            "Enter the number of Fibonacci terms: 10\n",
            "Fibonacci Sequence: [0, 1, 1, 2, 3, 5, 8, 13, 21, 34]\n"
          ]
        }
      ]
    },
    {
      "cell_type": "code",
      "source": [
        "# 6: Write a generator function in Python that yields the powers of 2 up to a given exponent.\n",
        "\n",
        "def powers_of_2(exp):\n",
        "    for i in range(exp + 1):\n",
        "        yield 2 ** i\n",
        "\n",
        "# Taking user input\n",
        "n = int(input(\"Enter the exponent: \"))\n",
        "\n",
        "print(\"Powers of 2:\", list(powers_of_2(n)))\n"
      ],
      "metadata": {
        "colab": {
          "base_uri": "https://localhost:8080/"
        },
        "id": "g565_e6mUgOx",
        "outputId": "b7d0e98f-8055-42ba-c98d-1f2f4aa5705b"
      },
      "execution_count": null,
      "outputs": [
        {
          "output_type": "stream",
          "name": "stdout",
          "text": [
            "Enter the exponent: 5\n",
            "Powers of 2: [1, 2, 4, 8, 16, 32]\n"
          ]
        }
      ]
    },
    {
      "cell_type": "code",
      "source": [
        "# 7: Implement a generator function that reads a file line by line and yields each line as a string.\n",
        "\n",
        "def read_file_line_by_line(file_path):\n",
        "    with open(file_path, 'r') as file:\n",
        "        for line in file:\n",
        "            yield line.strip()\n",
        "\n",
        "# Taking user input (file path)\n",
        "file_path = input(\"Enter the file path: \")\n",
        "\n",
        "# Reading file lines\n",
        "for line in read_file_line_by_line(file_path):\n",
        "    print(line)"
      ],
      "metadata": {
        "id": "9qqNcv7JZNW8"
      },
      "execution_count": null,
      "outputs": []
    },
    {
      "cell_type": "code",
      "source": [
        "# 8: Use a lambda function in Python to sort a list of tuples based on the second element of each tuple.\n",
        "\n",
        "# Taking user input\n",
        "n = int(input(\"Enter the number of tuples: \"))\n",
        "tuples_list = [tuple(map(int, input(\"Enter tuple values separated by space: \").split())) for _ in range(n)]\n",
        "\n",
        "# Sorting using lambda\n",
        "sorted_tuples = sorted(tuples_list, key=lambda x: x[1])\n",
        "\n",
        "print(\"Sorted Tuples:\", sorted_tuples)\n"
      ],
      "metadata": {
        "colab": {
          "base_uri": "https://localhost:8080/"
        },
        "id": "BRJD8r8sUgUO",
        "outputId": "0eb1a782-e5fd-44cc-9cc9-72c1fda45c70"
      },
      "execution_count": null,
      "outputs": [
        {
          "output_type": "stream",
          "name": "stdout",
          "text": [
            "Enter the number of tuples: 3\n",
            "Enter tuple values separated by space: 1 4\n",
            "Enter tuple values separated by space: 3 2 \n",
            "Enter tuple values separated by space: 2 8\n",
            "Sorted Tuples: [(3, 2), (1, 4), (2, 8)]\n"
          ]
        }
      ]
    },
    {
      "cell_type": "code",
      "source": [
        "# 9: Write a Python program that uses map() to convert a list of temperatures from Celsius to Fahrenheit.\n",
        "\n",
        "def celsius_to_fahrenheit(c):\n",
        "    return (c * 9/5) + 32\n",
        "\n",
        "# Taking user input\n",
        "celsius_list = list(map(float, input(\"Enter temperatures in Celsius separated by spaces: \").split()))\n",
        "\n",
        "# Using map()\n",
        "fahrenheit_list = list(map(celsius_to_fahrenheit, celsius_list))\n",
        "\n",
        "print(\"Temperatures in Fahrenheit:\", fahrenheit_list)\n"
      ],
      "metadata": {
        "colab": {
          "base_uri": "https://localhost:8080/"
        },
        "id": "kw22-OHZUgXG",
        "outputId": "98232c4a-6a31-4722-bc49-fe5fa7f77547"
      },
      "execution_count": null,
      "outputs": [
        {
          "output_type": "stream",
          "name": "stdout",
          "text": [
            "Enter temperatures in Celsius separated by spaces:  0 25 100\n",
            "Temperatures in Fahrenheit: [32.0, 77.0, 212.0]\n"
          ]
        }
      ]
    },
    {
      "cell_type": "code",
      "source": [
        "# 10: Create a Python program that uses filter() to remove all the vowels from a given string.\n",
        "\n",
        "def is_consonant(char):\n",
        "    return char.lower() not in 'aeiou'\n",
        "\n",
        "# Taking user input\n",
        "input_string = input(\"Enter a string: \")\n",
        "\n",
        "# Using filter()\n",
        "filtered_string = \"\".join(filter(is_consonant, input_string))\n",
        "\n",
        "print(\"String without vowels:\", filtered_string)\n"
      ],
      "metadata": {
        "colab": {
          "base_uri": "https://localhost:8080/"
        },
        "id": "q_HGzOb1Ugaz",
        "outputId": "34cedf98-c3dc-4a11-8b7c-00228d7afd8f"
      },
      "execution_count": null,
      "outputs": [
        {
          "output_type": "stream",
          "name": "stdout",
          "text": [
            "Enter a string: Hello World\n",
            "String without vowels: Hll Wrld\n"
          ]
        }
      ]
    },
    {
      "cell_type": "code",
      "source": [
        "# 11) Imagine an accounting routine used in a book shop. It works on a list with sublists, which look like this:\n",
        "#Write a Python program, which returns a list with 2-tuples. Each tuple consists of the order number and the\n",
        "#product of the price per item and the quantity. The product should be increased by 10,- € if the value of the\n",
        "#order is smaller than 100,00 €.\n",
        "\n",
        "#Write a Python program using lambda and map.\n",
        "\n",
        "order_list = [\n",
        "    [34587, \"Learning Python, Mark Lutz\", 4, 40.95],\n",
        "    [98762, \"Programming Python, Mark Lutz\", 5, 56.80],\n",
        "    [77226, \"Head First Python, Paul Barry\", 3, 32.95],\n",
        "    [88112, \"Einführung in Python3, Bernd Klein\", 3, 24.99]\n",
        "]\n",
        "\n",
        "def calculate_order_total(order):\n",
        "    order_num, _, quantity, price = order\n",
        "    total = quantity * price\n",
        "    return (order_num, total + 10 if total < 100 else total)\n",
        "\n",
        "result = list(map(calculate_order_total, order_list))\n",
        "print(result)"
      ],
      "metadata": {
        "colab": {
          "base_uri": "https://localhost:8080/"
        },
        "id": "PGAqjDMZbYnz",
        "outputId": "7ff1db1d-15e0-4ad9-ddf5-ece056f80d2e"
      },
      "execution_count": null,
      "outputs": [
        {
          "output_type": "stream",
          "name": "stdout",
          "text": [
            "[(34587, 163.8), (98762, 284.0), (77226, 108.85000000000001), (88112, 84.97)]\n"
          ]
        }
      ]
    }
  ]
}